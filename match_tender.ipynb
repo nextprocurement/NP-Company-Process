{
 "cells": [
  {
   "cell_type": "markdown",
   "metadata": {},
   "source": [
    "# Imports"
   ]
  },
  {
   "cell_type": "code",
   "execution_count": null,
   "metadata": {},
   "outputs": [],
   "source": [
    "import json\n",
    "from collections import Counter\n",
    "from itertools import chain\n",
    "from pathlib import Path\n",
    "\n",
    "import numpy as np\n",
    "import pandas as pd\n",
    "import regex\n",
    "import unidecode\n",
    "\n",
    "from src.utils.utils import evaluate_cell, fill_na, unify_colname"
   ]
  },
  {
   "cell_type": "code",
   "execution_count": null,
   "metadata": {},
   "outputs": [],
   "source": [
    "# Load data\n",
    "dir_df = Path(\"data/metadata/insiders.parquet\")\n",
    "df_in = pd.read_parquet(dir_df)\n",
    "dir_df = Path(\"data/metadata/outsiders.parquet\")\n",
    "df_ou = pd.read_parquet(dir_df)\n",
    "dir_df = Path(\"data/metadata/minors.parquet\")\n",
    "df_mi = pd.read_parquet(dir_df)"
   ]
  },
  {
   "cell_type": "code",
   "execution_count": null,
   "metadata": {},
   "outputs": [],
   "source": [
    "print(df_in.shape)\n",
    "print(df_ou.shape)\n",
    "print(df_mi.shape)"
   ]
  },
  {
   "cell_type": "code",
   "execution_count": null,
   "metadata": {},
   "outputs": [],
   "source": [
    "# Load info from gencat\n",
    "tend_cat = pd.read_csv(\"data/metadata/gencat.csv\")"
   ]
  },
  {
   "cell_type": "markdown",
   "metadata": {},
   "source": [
    "# Aux functions"
   ]
  },
  {
   "cell_type": "code",
   "execution_count": null,
   "metadata": {},
   "outputs": [],
   "source": [
    "def process_str(el: str):\n",
    "    s = regex.sub(r\"(^[^\\w({[]*)|([^\\w)}\\]]*$)|([^\\w:)(/-\\s])\", \"\", el).lower().strip()\n",
    "    s = regex.sub(r\"\\s+\", \" \", s)\n",
    "    return s\n",
    "\n",
    "\n",
    "def process_cpv(el: str):\n",
    "    return regex.sub(r\"\\D\", \"\", el)"
   ]
  },
  {
   "cell_type": "code",
   "execution_count": null,
   "metadata": {},
   "outputs": [],
   "source": [
    "# Get general tender info (title, object, winner, etc)\n",
    "df_in.columns = [unify_colname(c) for c in df_in.columns]\n",
    "df_ou.columns = [unify_colname(c) for c in df_ou.columns]\n",
    "df_mi.columns = [unify_colname(c) for c in df_mi.columns]"
   ]
  },
  {
   "cell_type": "code",
   "execution_count": null,
   "metadata": {},
   "outputs": [],
   "source": [
    "use_cols = [\n",
    "    \"id\",\n",
    "    \"summary\",\n",
    "    \"title\",\n",
    "    # \"updated\",\n",
    "    \"ContractFolderStatus.ContractFolderID\",\n",
    "    # \"ContractFolderStatus.ContractFolderStatusCode\",\n",
    "    # \"ContractFolderStatus.LocatedContractingParty.Party.PartyIdentification.ID\",\n",
    "    # \"ContractFolderStatus.LocatedContractingParty.Party.PartyName.Name\",\n",
    "    \"ContractFolderStatus.ProcurementProject.Name\",\n",
    "    # \"ContractFolderStatus.ProcurementProject.TypeCode\",\n",
    "    \"ContractFolderStatus.ProcurementProject.RequiredCommodityClassification.ItemClassificationCode\",\n",
    "    # \"ContractFolderStatus.ProcurementProject.RealizedLocation.CountrySubentityCode\",\n",
    "    # \"ContractFolderStatus.ProcurementProject.PlannedPeriod.DurationMeasure\",\n",
    "    # \"ContractFolderStatus.ProcurementProject.PlannedPeriod.StartDate\",\n",
    "    # \"ContractFolderStatus.ProcurementProject.PlannedPeriod.EndDate\",\n",
    "    \"ContractFolderStatus.TenderResult.WinningParty.PartyIdentification.ID\",\n",
    "    # \"ContractFolderStatus.TenderResult.WinningParty.PartyName.Name\",\n",
    "    \"ContractFolderStatus.ProcurementProject.RealizedLocation.CountrySubentity\",\n",
    "    # \"ContractFolderStatus.TenderingTerms.FundingProgramCode\",\n",
    "    # \"ContractFolderStatus.TenderingTerms.FundingProgram\",\n",
    "    # \"ContractFolderStatus.TenderResult.WinningParty.PartyLegalEntity.CompanyTypeCode\",\n",
    "]"
   ]
  },
  {
   "cell_type": "code",
   "execution_count": null,
   "metadata": {},
   "outputs": [],
   "source": [
    "rename_columns = {\n",
    "    \"title\": \"title\",\n",
    "    \"summary\": \"summary\",\n",
    "    \"ContractFolderStatus.ContractFolderID\": \"id\",\n",
    "    \"ContractFolderStatus.ProcurementProject.Name\": \"project\",\n",
    "    \"ContractFolderStatus.TenderResult.WinningParty.PartyIdentification.ID\": \"winner\",\n",
    "    \"ContractFolderStatus.ProcurementProject.RequiredCommodityClassification.ItemClassificationCode\": \"cpv\",\n",
    "    \"ContractFolderStatus.ProcurementProject.RealizedLocation.CountrySubentity\": \"location\",\n",
    "    \"denominacio\": \"title\",\n",
    "    \"objecte_contracte\": \"summary\",\n",
    "    \"codi_expedient\": \"id\",\n",
    "    \"codi_cpv\": \"cpv\",\n",
    "}"
   ]
  },
  {
   "cell_type": "markdown",
   "metadata": {},
   "source": [
    "# PLACE"
   ]
  },
  {
   "cell_type": "code",
   "execution_count": null,
   "metadata": {},
   "outputs": [],
   "source": [
    "df = pd.concat(\n",
    "    [\n",
    "        df_in[[c for c in use_cols if c in df_in.columns]],\n",
    "        df_ou[[c for c in use_cols if c in df_ou.columns]],\n",
    "        # df_mi[[c for c in use_cols if c in df_mi.columns]],\n",
    "    ]\n",
    ")\n",
    "index_names = df.index.names\n",
    "df.reset_index(inplace=True)\n",
    "df[\"identifier\"] = df[index_names].astype(str).agg(\"/\".join, axis=1)\n",
    "# df.drop(index_names, inplace=True, axis=1)\n",
    "df.set_index(\"identifier\", inplace=True)\n",
    "df = df.applymap(fill_na, fill=np.nan)\n",
    "df.shape"
   ]
  },
  {
   "cell_type": "markdown",
   "metadata": {},
   "source": [
    "### Get relevant data"
   ]
  },
  {
   "cell_type": "code",
   "execution_count": null,
   "metadata": {},
   "outputs": [],
   "source": [
    "# Get only relevant data\n",
    "tender_filt = (\n",
    "    df[\n",
    "        [\n",
    "            \"title\",\n",
    "            \"summary\",\n",
    "            \"ContractFolderStatus.ContractFolderID\",\n",
    "            # \"ContractFolderStatus.ProcurementProject.Name\",\n",
    "            # \"ContractFolderStatus.TenderResult.WinningParty.PartyIdentification.ID\",\n",
    "            \"ContractFolderStatus.ProcurementProject.RequiredCommodityClassification.ItemClassificationCode\",\n",
    "            \"ContractFolderStatus.ProcurementProject.RealizedLocation.CountrySubentity\",\n",
    "        ]\n",
    "    ]\n",
    "    .rename(columns=rename_columns)\n",
    "    .dropna(how=\"all\")\n",
    "    .explode(\"cpv\")\n",
    "    # .explode(\"winner\")\n",
    ")\n",
    "\n",
    "# Clean columns\n",
    "tender_filt[\"id_orig\"] = tender_filt[\"id\"]\n",
    "tender_filt[\"id_norm\"] = tender_filt[\"id\"].apply(\n",
    "    lambda x: unidecode.unidecode(regex.sub(r\"[^\\p{L}\\d]+\", \"-\", x))\n",
    "    if not pd.isna(x)\n",
    "    else np.nan\n",
    ")\n",
    "# tender_filt[\"winner\"] = tender_filt[\"winner\"].apply(evaluate)\n",
    "tender_filt[\"cpv\"] = tender_filt[\"cpv\"].apply(evaluate_cell)\n",
    "tender_filt = tender_filt.explode(\"cpv\")  # .explode(\"winner\")\n",
    "tender_filt[\"cpv\"] = tender_filt[\"cpv\"].astype(str).apply(process_cpv)\n",
    "tender_filt[\"location\"] = tender_filt[\"location\"].apply(\n",
    "    lambda x: unidecode.unidecode(x.lower()) if not pd.isna(x) else np.nan\n",
    ")\n",
    "tender_filt[[c for c in tender_filt.columns if c != \"id\"]] = (\n",
    "    tender_filt[[c for c in tender_filt.columns if c != \"id\"]]\n",
    "    .astype(str)\n",
    "    .applymap(process_str)\n",
    ")\n",
    "# Create a cpv_div column for matching\n",
    "tender_filt = tender_filt.replace({\"\": np.nan, \"0\": np.nan})\n",
    "tender_filt[\"cpv_div\"] = tender_filt[\"cpv\"].apply(\n",
    "    lambda x: x[:2] if not pd.isna(x) else np.nan\n",
    ")\n",
    "tender_filt = tender_filt.reset_index()"
   ]
  },
  {
   "cell_type": "markdown",
   "metadata": {},
   "source": [
    "### Get data from cat"
   ]
  },
  {
   "cell_type": "code",
   "execution_count": null,
   "metadata": {},
   "outputs": [],
   "source": [
    "# Filter using only those from Cat\n",
    "agg_tender_orig = (\n",
    "    tender_filt[\n",
    "        tender_filt[\"location\"].str.contains(\n",
    "            \"|\".join(\n",
    "                [\n",
    "                    \"nan\",\n",
    "                    \"espana\",\n",
    "                    \"cataluna\",\n",
    "                    \"catalunya\",\n",
    "                    \"barcelona\",\n",
    "                    \"tarragona\",\n",
    "                    \"girona\",\n",
    "                    \"gerona\",\n",
    "                    \"lleida\",\n",
    "                    \"lerida\",\n",
    "                ]\n",
    "            )\n",
    "        )\n",
    "    ]\n",
    "    .drop(\"identifier\", axis=1)\n",
    "    .groupby([\"id_orig\"])\n",
    "    .agg(list)\n",
    ")\n",
    "valid_agg_tender_orig = agg_tender_orig[\n",
    "    agg_tender_orig[\"title\"].apply(lambda x: len(set(x)) == 1)\n",
    "]\n",
    "valid_agg_tender_orig = valid_agg_tender_orig.applymap(\n",
    "    lambda x: Counter(x).most_common()[0][0]\n",
    ")\n",
    "valid_agg_tender_orig = valid_agg_tender_orig.reset_index().reset_index()\n",
    "valid_agg_tender_orig[\"index\"] = valid_agg_tender_orig[\"index\"].apply(lambda x: [x])\n",
    "print(valid_agg_tender_orig.shape)\n",
    "display(valid_agg_tender_orig.head())"
   ]
  },
  {
   "cell_type": "markdown",
   "metadata": {},
   "source": [
    "# GENCAT"
   ]
  },
  {
   "cell_type": "code",
   "execution_count": null,
   "metadata": {},
   "outputs": [],
   "source": [
    "# Clean tenders cat\n",
    "tend_cat_filt = (\n",
    "    tend_cat[\n",
    "        [\n",
    "            \"denominacio\",\n",
    "            \"objecte_contracte\",\n",
    "            \"codi_expedient\",\n",
    "            \"codi_cpv\",\n",
    "        ]\n",
    "    ]\n",
    "    .rename(columns=rename_columns)\n",
    "    .astype(str)\n",
    ")\n",
    "tend_cat_filt[\"id_orig\"] = tend_cat_filt[\"id\"]\n",
    "tend_cat_filt[\"id_norm\"] = tend_cat_filt[\"id\"].apply(\n",
    "    lambda x: unidecode.unidecode(regex.sub(r\"[^\\p{L}\\d]+\", \"-\", x))\n",
    "    if not pd.isna(x)\n",
    "    else np.nan\n",
    ")\n",
    "tend_cat_filt[\"cpv\"] = tend_cat_filt[\"cpv\"].astype(str).apply(process_cpv)\n",
    "tend_cat_filt[[c for c in tend_cat_filt if c != \"id\"]] = (\n",
    "    tend_cat_filt[[c for c in tend_cat_filt if c != \"id\"]]\n",
    "    .astype(str)\n",
    "    .applymap(process_str)\n",
    ")\n",
    "tend_cat_filt = tend_cat_filt.replace({\"\": np.nan, \"0\": np.nan})\n",
    "tend_cat_filt[\"cpv_div\"] = tend_cat_filt[\"cpv\"].apply(\n",
    "    lambda x: x[:2] if not pd.isna(x) else np.nan\n",
    ")\n",
    "tend_cat_filt = tend_cat_filt.reset_index(drop=True)"
   ]
  },
  {
   "cell_type": "code",
   "execution_count": null,
   "metadata": {},
   "outputs": [],
   "source": [
    "# Aggregate by original ID\n",
    "valid_tend_cat_orig = tend_cat_filt.groupby(\"id_orig\").agg(list)\n",
    "valid_tend_cat_orig = valid_tend_cat_orig[\n",
    "    valid_tend_cat_orig[\"title\"].apply(lambda x: len(set(x)) == 1)\n",
    "]\n",
    "valid_tend_cat_orig = valid_tend_cat_orig.applymap(\n",
    "    lambda x: Counter(x).most_common()[0][0]\n",
    ")\n",
    "valid_tend_cat_orig = valid_tend_cat_orig.reset_index().reset_index()\n",
    "valid_tend_cat_orig[\"index\"] = valid_tend_cat_orig[\"index\"].apply(lambda x: [x])\n",
    "print(len(valid_tend_cat_orig))\n",
    "display(valid_tend_cat_orig.head())"
   ]
  },
  {
   "cell_type": "markdown",
   "metadata": {},
   "source": [
    "# TO DO\n",
    "- Hacer match con budget"
   ]
  },
  {
   "cell_type": "markdown",
   "metadata": {},
   "source": [
    "# Match PLACE & GENCAT"
   ]
  },
  {
   "cell_type": "code",
   "execution_count": null,
   "metadata": {},
   "outputs": [],
   "source": [
    "# Match tenders using orig id\n",
    "use_tend_agg_orig = valid_agg_tender_orig[[\"id_orig\", \"index\", \"title\", \"cpv_div\"]]\n",
    "use_tend_cat_orig = valid_tend_cat_orig[[\"id_orig\", \"index\", \"title\", \"cpv_div\"]]"
   ]
  },
  {
   "cell_type": "markdown",
   "metadata": {},
   "source": [
    "### By ID"
   ]
  },
  {
   "cell_type": "code",
   "execution_count": null,
   "metadata": {},
   "outputs": [],
   "source": [
    "# Match tenders by ID orig\n",
    "matched_id_orig = pd.merge(\n",
    "    use_tend_agg_orig,\n",
    "    use_tend_cat_orig,\n",
    "    how=\"inner\",\n",
    "    left_on=[\"id_orig\"],\n",
    "    right_on=[\"id_orig\"],\n",
    "    suffixes=[\"_agg\", \"_cat\"],\n",
    ").reset_index(drop=True)\n",
    "matched_id_orig[\"title\"] = matched_id_orig[[\"title_agg\", \"title_cat\"]].apply(\n",
    "    lambda x: Counter(list(x)), axis=1\n",
    ")\n",
    "matched_id_orig[\"cpv_div\"] = matched_id_orig[[\"cpv_div_agg\", \"cpv_div_cat\"]].apply(\n",
    "    lambda x: Counter(list(x)), axis=1\n",
    ")\n",
    "matched_id_orig = matched_id_orig[\n",
    "    [\"id_orig\", \"title\", \"cpv_div\", \"index_agg\", \"index_cat\"]\n",
    "]\n",
    "idx_agg_orig = set(chain.from_iterable(matched_id_orig[\"index_agg\"]))\n",
    "idx_cat_orig = set(chain.from_iterable(matched_id_orig[\"index_cat\"]))\n",
    "\n",
    "# Stats\n",
    "num_agg_idx_found = len(idx_agg_orig)\n",
    "num_cat_idx_found = len(idx_cat_orig)\n",
    "num_agg_idx_original = len(use_tend_agg_orig)\n",
    "num_cat_idx_original = len(use_tend_cat_orig)\n",
    "\n",
    "print(\"Indices from PLACE matched with id:\")\n",
    "print(\n",
    "    f\"{num_agg_idx_found} out of {num_agg_idx_original} ({num_agg_idx_found/num_agg_idx_original*100:.3f}%)\"\n",
    ")\n",
    "print(\"Indices from GENCAT matched with id:\")\n",
    "print(\n",
    "    f\"{num_cat_idx_found} out of {num_cat_idx_original} ({num_cat_idx_found/num_cat_idx_original*100:.3f}%)\"\n",
    ")\n",
    "display(matched_id_orig.head())"
   ]
  },
  {
   "cell_type": "markdown",
   "metadata": {},
   "source": [
    "### By title and CPV"
   ]
  },
  {
   "cell_type": "code",
   "execution_count": null,
   "metadata": {},
   "outputs": [],
   "source": [
    "# Match tenders by title and cpv orig\n",
    "matched_title_orig = pd.merge(\n",
    "    use_tend_agg_orig,\n",
    "    use_tend_cat_orig,\n",
    "    how=\"inner\",\n",
    "    left_on=[\n",
    "        \"title\",\n",
    "        \"cpv_div\",\n",
    "    ],\n",
    "    right_on=[\n",
    "        \"title\",\n",
    "        \"cpv_div\",\n",
    "    ],\n",
    "    suffixes=[\"_agg\", \"_cat\"],\n",
    ").reset_index(drop=True)\n",
    "\n",
    "matched_title_orig = matched_title_orig[\n",
    "    matched_title_orig[\"id_orig_agg\"] != matched_title_orig[\"id_orig_cat\"]\n",
    "]\n",
    "\n",
    "# Split to get those ids that only appear in agg or cat\n",
    "m_x = matched_title_orig.loc[\n",
    "    ~matched_title_orig[\"id_orig_agg\"].isin(matched_title_orig[\"id_orig_cat\"]),\n",
    "    [\"id_orig_agg\", \"index_agg\", \"title\", \"cpv_div\"],\n",
    "].rename({\"id_orig_agg\": \"id_orig\"}, axis=1)\n",
    "m_y = matched_title_orig.loc[\n",
    "    ~matched_title_orig[\"id_orig_cat\"].isin(matched_title_orig[\"id_orig_agg\"]),\n",
    "    [\"id_orig_cat\", \"index_cat\", \"title\", \"cpv_div\"],\n",
    "].rename({\"id_orig_cat\": \"id_orig\"}, axis=1)\n",
    "\n",
    "# Group by id\n",
    "matched_title_orig = (\n",
    "    pd.concat([m_x, m_y])\n",
    "    .groupby(\"id_orig\")\n",
    "    .agg(\n",
    "        {\n",
    "            \"title\": Counter,\n",
    "            \"cpv_div\": Counter,\n",
    "            \"index_agg\": sum,\n",
    "            \"index_cat\": sum,\n",
    "        }\n",
    "    )\n",
    "    .reset_index()\n",
    "    .replace({0: None})\n",
    ")\n",
    "\n",
    "# Stats\n",
    "num_agg_title_found = len(matched_title_orig[\"index_agg\"].explode().dropna())\n",
    "num_cat_title_found = len(matched_title_orig[\"index_cat\"].explode().dropna())\n",
    "\n",
    "print(\"Indices from PLACE matched with title:\")\n",
    "print(\n",
    "    f\"{num_agg_title_found} out of {num_agg_idx_original} ({num_agg_title_found/num_agg_idx_original*100:.3f}%)\"\n",
    ")\n",
    "print(\"Indices from GENCAT matched with title:\")\n",
    "print(\n",
    "    f\"{num_cat_title_found} out of {num_cat_idx_original} ({num_cat_title_found/num_cat_idx_original*100:.3f}%)\"\n",
    ")\n",
    "print(\n",
    "    \"The found indices are only present in PLACE or GENCAT, but they match by title, so we asume they are the same and assign the id.\"\n",
    ")\n",
    "display(matched_title_orig.head())"
   ]
  },
  {
   "cell_type": "markdown",
   "metadata": {},
   "source": [
    "### All (id, name, cpv)"
   ]
  },
  {
   "cell_type": "code",
   "execution_count": null,
   "metadata": {},
   "outputs": [],
   "source": [
    "# Combine both\n",
    "matched_final_orig = pd.merge(\n",
    "    matched_id_orig,\n",
    "    matched_title_orig,\n",
    "    how=\"outer\",\n",
    "    left_on=\"id_orig\",\n",
    "    right_on=\"id_orig\",\n",
    ")\n",
    "\n",
    "title = []\n",
    "cpv_div = []\n",
    "index_agg = []\n",
    "index_cat = []\n",
    "for tx, ty, cx, cy, iax, iay, icx, icy in matched_final_orig[\n",
    "    [\n",
    "        \"title_x\",\n",
    "        \"title_y\",\n",
    "        \"cpv_div_x\",\n",
    "        \"cpv_div_y\",\n",
    "        \"index_agg_x\",\n",
    "        \"index_agg_y\",\n",
    "        \"index_cat_y\",\n",
    "        \"index_cat_x\",\n",
    "    ]\n",
    "].values:\n",
    "    t = dict()\n",
    "    c = dict()\n",
    "    ia = []\n",
    "    ic = []\n",
    "    t.update(tx if not pd.isna(tx) else dict())\n",
    "    t.update(ty if not pd.isna(ty) else dict())\n",
    "    c.update(cx if not pd.isna(cx) else dict())\n",
    "    c.update(cy if not pd.isna(cy) else dict())\n",
    "    ia.extend(iax if isinstance(iax, list) else [])\n",
    "    ia.extend(iay if isinstance(iay, list) else [])\n",
    "    ic.extend(icx if isinstance(icx, list) else [])\n",
    "    ic.extend(icy if isinstance(icy, list) else [])\n",
    "    title.append(t)\n",
    "    cpv_div.append(c)\n",
    "    index_agg.append(ia)\n",
    "    index_cat.append(ic)\n",
    "\n",
    "matched_final_orig[\"title\"] = title\n",
    "matched_final_orig[\"cpv_div\"] = cpv_div\n",
    "matched_final_orig[\"index_agg\"] = index_agg\n",
    "matched_final_orig[\"index_cat\"] = index_cat\n",
    "matched_final_orig[\"index_agg\"] = matched_final_orig[\"index_agg\"].apply(\n",
    "    lambda x: list(set(x))\n",
    ")\n",
    "matched_final_orig[\"index_cat\"] = matched_final_orig[\"index_cat\"].apply(\n",
    "    lambda x: list(set(x))\n",
    ")\n",
    "\n",
    "matched_final_orig = matched_final_orig[\n",
    "    [\"id_orig\", \"title\", \"cpv_div\", \"index_agg\", \"index_cat\"]\n",
    "]\n",
    "\n",
    "\n",
    "# Stats\n",
    "num_matched = len(matched_final_orig)\n",
    "num_agg_idx_found = len(matched_final_orig[\"index_agg\"].explode().dropna())\n",
    "num_cat_idx_found = len(matched_final_orig[\"index_cat\"].explode().dropna())\n",
    "\n",
    "print(f\"Total number of matches: {num_matched}\")\n",
    "print(\"Indices from PLACE matched with id:\")\n",
    "print(\n",
    "    f\"{num_agg_idx_found} out of {num_agg_idx_original} ({num_agg_idx_found/num_agg_idx_original*100:.3f}%)\"\n",
    ")\n",
    "print(\"Indices from GENCAT matched with id:\")\n",
    "print(\n",
    "    f\"{num_cat_idx_found} out of {num_cat_idx_original} ({num_cat_idx_found/num_cat_idx_original*100:.3f}%)\"\n",
    ")\n",
    "\n",
    "display(matched_final_orig.head())"
   ]
  },
  {
   "cell_type": "code",
   "execution_count": null,
   "metadata": {},
   "outputs": [],
   "source": [
    "# Get elements that appear in gencat but not in place\n",
    "cat_indices = matched_final_orig[\"index_cat\"].explode().dropna().tolist()\n",
    "use_tend_cat_orig[~use_tend_cat_orig.index.isin(cat_indices)]"
   ]
  },
  {
   "cell_type": "code",
   "execution_count": null,
   "metadata": {},
   "outputs": [],
   "source": []
  }
 ],
 "metadata": {
  "kernelspec": {
   "display_name": ".venv",
   "language": "python",
   "name": "python3"
  },
  "language_info": {
   "codemirror_mode": {
    "name": "ipython",
    "version": 3
   },
   "file_extension": ".py",
   "mimetype": "text/x-python",
   "name": "python",
   "nbconvert_exporter": "python",
   "pygments_lexer": "ipython3",
   "version": "3.11.1"
  },
  "orig_nbformat": 4
 },
 "nbformat": 4,
 "nbformat_minor": 2
}
